{
  "nbformat": 4,
  "nbformat_minor": 0,
  "metadata": {
    "colab": {
      "provenance": [],
      "include_colab_link": true
    },
    "kernelspec": {
      "name": "python3",
      "display_name": "Python 3"
    },
    "language_info": {
      "name": "python"
    }
  },
  "cells": [
    {
      "cell_type": "markdown",
      "metadata": {
        "id": "view-in-github",
        "colab_type": "text"
      },
      "source": [
        "<a href=\"https://colab.research.google.com/github/nabila-nazzy/Empath-lexical-categories/blob/main/Empath_lexical_categories.ipynb\" target=\"_parent\"><img src=\"https://colab.research.google.com/assets/colab-badge.svg\" alt=\"Open In Colab\"/></a>"
      ]
    },
    {
      "cell_type": "markdown",
      "metadata": {
        "id": "VstbXusgZ_DK"
      },
      "source": [
        "###Empath is a tool for analyzing text across lexical categories (similar to LIWC), and also generating new lexical categories to use for an analysis.\n",
        "###Source: Fast, E. (2017, 23 Apr). empath-client. [Software code]. Github. https://github.com/Ejhfast/empath-client   <br> Also, see Fast, E., Chen, B., and Bernstein, M. S. (2016, 22 Feb). “Empath: understanding topic signals in large-scale text,” in Proceedings of the 2016 CHI Conference on Human Factors in Computing Systems (San Jose, CA), 4647–4657. https://arxiv.org/pdf/1602.06979.pdf  \n",
        " "
      ]
    },
    {
      "cell_type": "code",
      "metadata": {
        "id": "J5mfiFxJWxzg",
        "colab": {
          "base_uri": "https://localhost:8080/"
        },
        "outputId": "2c111987-da42-4081-cf29-b7ef41a8ce35"
      },
      "source": [
        "!pip install empath"
      ],
      "execution_count": null,
      "outputs": [
        {
          "output_type": "stream",
          "name": "stdout",
          "text": [
            "Looking in indexes: https://pypi.org/simple, https://us-python.pkg.dev/colab-wheels/public/simple/\n",
            "Collecting empath\n",
            "  Downloading empath-0.89.tar.gz (57 kB)\n",
            "\u001b[2K     \u001b[90m━━━━━━━━━━━━━━━━━━━━━━━━━━━━━━━━━━━━━━━━\u001b[0m \u001b[32m57.6/57.6 KB\u001b[0m \u001b[31m2.5 MB/s\u001b[0m eta \u001b[36m0:00:00\u001b[0m\n",
            "\u001b[?25h  Preparing metadata (setup.py) ... \u001b[?25l\u001b[?25hdone\n",
            "Requirement already satisfied: requests in /usr/local/lib/python3.9/dist-packages (from empath) (2.25.1)\n",
            "Requirement already satisfied: certifi>=2017.4.17 in /usr/local/lib/python3.9/dist-packages (from requests->empath) (2022.12.7)\n",
            "Requirement already satisfied: idna<3,>=2.5 in /usr/local/lib/python3.9/dist-packages (from requests->empath) (2.10)\n",
            "Requirement already satisfied: urllib3<1.27,>=1.21.1 in /usr/local/lib/python3.9/dist-packages (from requests->empath) (1.26.15)\n",
            "Requirement already satisfied: chardet<5,>=3.0.2 in /usr/local/lib/python3.9/dist-packages (from requests->empath) (4.0.0)\n",
            "Building wheels for collected packages: empath\n",
            "  Building wheel for empath (setup.py) ... \u001b[?25l\u001b[?25hdone\n",
            "  Created wheel for empath: filename=empath-0.89-py3-none-any.whl size=57823 sha256=815b28f480170a49163a0c05c7087e364f51ad1a5a2d402298ebccb917fe3e87\n",
            "  Stored in directory: /root/.cache/pip/wheels/5b/58/77/7eed8eef4c6be0cca8920ac319d916811537a37407da220bf1\n",
            "Successfully built empath\n",
            "Installing collected packages: empath\n",
            "Successfully installed empath-0.89\n"
          ]
        }
      ]
    },
    {
      "cell_type": "code",
      "metadata": {
        "id": "obDh5WgkYBat"
      },
      "source": [
        "from empath import Empath\n",
        "lexicon = Empath()"
      ],
      "execution_count": null,
      "outputs": []
    },
    {
      "cell_type": "code",
      "metadata": {
        "id": "TgC4QEqcYHbP",
        "colab": {
          "base_uri": "https://localhost:8080/"
        },
        "outputId": "9f6f7c7d-a206-4186-f409-822d3faf5e2c"
      },
      "source": [
        "#Analyze text over all pre-built categories:\n",
        "lexicon.analyze(\"C++ is known to be a difficult programming language compared to Python\", normalize=True)\n"
      ],
      "execution_count": null,
      "outputs": [
        {
          "output_type": "execute_result",
          "data": {
            "text/plain": [
              "{'help': 0.0,\n",
              " 'office': 0.08333333333333333,\n",
              " 'dance': 0.0,\n",
              " 'money': 0.0,\n",
              " 'wedding': 0.0,\n",
              " 'domestic_work': 0.0,\n",
              " 'sleep': 0.0,\n",
              " 'medical_emergency': 0.0,\n",
              " 'cold': 0.0,\n",
              " 'hate': 0.0,\n",
              " 'cheerfulness': 0.0,\n",
              " 'aggression': 0.0,\n",
              " 'occupation': 0.0,\n",
              " 'envy': 0.0,\n",
              " 'anticipation': 0.0,\n",
              " 'family': 0.0,\n",
              " 'vacation': 0.0,\n",
              " 'crime': 0.0,\n",
              " 'attractive': 0.0,\n",
              " 'masculine': 0.0,\n",
              " 'prison': 0.0,\n",
              " 'health': 0.0,\n",
              " 'pride': 0.0,\n",
              " 'dispute': 0.0,\n",
              " 'nervousness': 0.0,\n",
              " 'government': 0.0,\n",
              " 'weakness': 0.0,\n",
              " 'horror': 0.0,\n",
              " 'swearing_terms': 0.0,\n",
              " 'leisure': 0.0,\n",
              " 'suffering': 0.0,\n",
              " 'royalty': 0.0,\n",
              " 'wealthy': 0.0,\n",
              " 'tourism': 0.0,\n",
              " 'furniture': 0.0,\n",
              " 'school': 0.0,\n",
              " 'magic': 0.0,\n",
              " 'beach': 0.0,\n",
              " 'journalism': 0.0,\n",
              " 'morning': 0.0,\n",
              " 'banking': 0.0,\n",
              " 'social_media': 0.0,\n",
              " 'exercise': 0.0,\n",
              " 'night': 0.0,\n",
              " 'kill': 0.0,\n",
              " 'blue_collar_job': 0.0,\n",
              " 'art': 0.0,\n",
              " 'ridicule': 0.0,\n",
              " 'play': 0.0,\n",
              " 'computer': 0.08333333333333333,\n",
              " 'college': 0.0,\n",
              " 'optimism': 0.0,\n",
              " 'stealing': 0.0,\n",
              " 'real_estate': 0.0,\n",
              " 'home': 0.0,\n",
              " 'divine': 0.0,\n",
              " 'sexual': 0.0,\n",
              " 'fear': 0.0,\n",
              " 'irritability': 0.0,\n",
              " 'superhero': 0.0,\n",
              " 'business': 0.0,\n",
              " 'driving': 0.0,\n",
              " 'pet': 0.0,\n",
              " 'childish': 0.0,\n",
              " 'cooking': 0.0,\n",
              " 'exasperation': 0.0,\n",
              " 'religion': 0.0,\n",
              " 'hipster': 0.0,\n",
              " 'internet': 0.08333333333333333,\n",
              " 'surprise': 0.0,\n",
              " 'reading': 0.0,\n",
              " 'worship': 0.0,\n",
              " 'leader': 0.0,\n",
              " 'independence': 0.0,\n",
              " 'movement': 0.0,\n",
              " 'body': 0.0,\n",
              " 'noise': 0.0,\n",
              " 'eating': 0.0,\n",
              " 'medieval': 0.0,\n",
              " 'zest': 0.0,\n",
              " 'confusion': 0.0,\n",
              " 'water': 0.0,\n",
              " 'sports': 0.0,\n",
              " 'death': 0.0,\n",
              " 'healing': 0.0,\n",
              " 'legend': 0.0,\n",
              " 'heroic': 0.0,\n",
              " 'celebration': 0.0,\n",
              " 'restaurant': 0.0,\n",
              " 'violence': 0.0,\n",
              " 'programming': 0.08333333333333333,\n",
              " 'dominant_heirarchical': 0.0,\n",
              " 'military': 0.0,\n",
              " 'neglect': 0.0,\n",
              " 'swimming': 0.0,\n",
              " 'exotic': 0.0,\n",
              " 'love': 0.0,\n",
              " 'hiking': 0.0,\n",
              " 'communication': 0.0,\n",
              " 'hearing': 0.0,\n",
              " 'order': 0.0,\n",
              " 'sympathy': 0.0,\n",
              " 'hygiene': 0.0,\n",
              " 'weather': 0.0,\n",
              " 'anonymity': 0.0,\n",
              " 'trust': 0.0,\n",
              " 'ancient': 0.0,\n",
              " 'deception': 0.0,\n",
              " 'fabric': 0.0,\n",
              " 'air_travel': 0.0,\n",
              " 'fight': 0.0,\n",
              " 'dominant_personality': 0.0,\n",
              " 'music': 0.0,\n",
              " 'vehicle': 0.0,\n",
              " 'politeness': 0.0,\n",
              " 'toy': 0.0,\n",
              " 'farming': 0.0,\n",
              " 'meeting': 0.0,\n",
              " 'war': 0.0,\n",
              " 'speaking': 0.08333333333333333,\n",
              " 'listen': 0.0,\n",
              " 'urban': 0.0,\n",
              " 'shopping': 0.0,\n",
              " 'disgust': 0.0,\n",
              " 'fire': 0.0,\n",
              " 'tool': 0.0,\n",
              " 'phone': 0.0,\n",
              " 'gain': 0.0,\n",
              " 'sound': 0.0,\n",
              " 'injury': 0.0,\n",
              " 'sailing': 0.0,\n",
              " 'rage': 0.0,\n",
              " 'science': 0.0,\n",
              " 'work': 0.08333333333333333,\n",
              " 'appearance': 0.0,\n",
              " 'valuable': 0.0,\n",
              " 'warmth': 0.0,\n",
              " 'youth': 0.0,\n",
              " 'sadness': 0.0,\n",
              " 'fun': 0.0,\n",
              " 'emotional': 0.0,\n",
              " 'joy': 0.0,\n",
              " 'affection': 0.0,\n",
              " 'traveling': 0.0,\n",
              " 'fashion': 0.0,\n",
              " 'ugliness': 0.0,\n",
              " 'lust': 0.0,\n",
              " 'shame': 0.0,\n",
              " 'torment': 0.0,\n",
              " 'economics': 0.0,\n",
              " 'anger': 0.0,\n",
              " 'politics': 0.0,\n",
              " 'ship': 0.0,\n",
              " 'clothing': 0.0,\n",
              " 'car': 0.0,\n",
              " 'strength': 0.0,\n",
              " 'technology': 0.08333333333333333,\n",
              " 'breaking': 0.0,\n",
              " 'shape_and_size': 0.0,\n",
              " 'power': 0.0,\n",
              " 'white_collar_job': 0.0,\n",
              " 'animal': 0.0,\n",
              " 'party': 0.0,\n",
              " 'terrorism': 0.0,\n",
              " 'smell': 0.0,\n",
              " 'disappointment': 0.0,\n",
              " 'poor': 0.0,\n",
              " 'plant': 0.0,\n",
              " 'pain': 0.0,\n",
              " 'beauty': 0.0,\n",
              " 'timidity': 0.0,\n",
              " 'philosophy': 0.0,\n",
              " 'negotiate': 0.0,\n",
              " 'negative_emotion': 0.0,\n",
              " 'cleaning': 0.0,\n",
              " 'messaging': 0.0,\n",
              " 'competing': 0.0,\n",
              " 'law': 0.0,\n",
              " 'friends': 0.0,\n",
              " 'payment': 0.0,\n",
              " 'achievement': 0.0,\n",
              " 'alcohol': 0.0,\n",
              " 'liquid': 0.0,\n",
              " 'feminine': 0.0,\n",
              " 'weapon': 0.0,\n",
              " 'children': 0.0,\n",
              " 'monster': 0.0,\n",
              " 'ocean': 0.0,\n",
              " 'giving': 0.0,\n",
              " 'contentment': 0.0,\n",
              " 'writing': 0.0,\n",
              " 'rural': 0.0,\n",
              " 'positive_emotion': 0.0,\n",
              " 'musical': 0.0}"
            ]
          },
          "metadata": {},
          "execution_count": 3
        }
      ]
    },
    {
      "cell_type": "code",
      "metadata": {
        "id": "3M0JFmydYfte",
        "colab": {
          "base_uri": "https://localhost:8080/"
        },
        "outputId": "a97a6991-e459-4910-dc06-030cb53d7603"
      },
      "source": [
        "#Analyze text over specific categories:\n",
        "lexicon.analyze(\"C++ is known to be a difficult programming language compared to Python\", categories=[\"programming\"])"
      ],
      "execution_count": null,
      "outputs": [
        {
          "output_type": "execute_result",
          "data": {
            "text/plain": [
              "{'programming': 1.0}"
            ]
          },
          "metadata": {},
          "execution_count": 4
        }
      ]
    },
    {
      "cell_type": "code",
      "metadata": {
        "id": "fSaWMtD5d3en",
        "colab": {
          "base_uri": "https://localhost:8080/"
        },
        "outputId": "df1a72af-8f63-4af4-983f-73094f540f5f"
      },
      "source": [
        "#Empath will return raw counts, but you can ask it to normalize over words in the document.\n",
        "lexicon.analyze(\"C++ is known to be a difficult programming language compared to Python\", categories=[\"programming\"], normalize=True)"
      ],
      "execution_count": null,
      "outputs": [
        {
          "output_type": "execute_result",
          "data": {
            "text/plain": [
              "{'programming': 0.08333333333333333}"
            ]
          },
          "metadata": {},
          "execution_count": 5
        }
      ]
    },
    {
      "cell_type": "code",
      "metadata": {
        "id": "F2ZwWfmsZgw_",
        "colab": {
          "base_uri": "https://localhost:8080/"
        },
        "outputId": "ff6e10cf-93dc-47c8-fa9d-ca110a23bc90"
      },
      "source": [
        "#create new lexical categories for analysis using word embeddings in the vector space model\n",
        "#lexicon.create_category(\"Politician\",[\"Joe Biden\",\"Donald Trump\",\"Mike Pence\"])\n",
        "lexicon.create_category(\"Name\",[\"Biden\",\"Joe\"])"
      ],
      "execution_count": null,
      "outputs": [
        {
          "output_type": "stream",
          "name": "stdout",
          "text": [
            "[\"Joe\", \"Shelby\", \"Aaron\", \"Danny\", \"Andy\", \"Mia\", \"Brandon\", \"Kat\", \"Liz\", \"Noah\", \"Jesse\", \"Dana\", \"Devon\", \"Lydia\", \"Charlie\", \"Macy\", \"Mike\", \"Katy\", \"Max\", \"Marcus\", \"Johnny\", \"Kyle\", \"Hanna\", \"Anthony\", \"Caleb\", \"Riley\", \"Rob\", \"Eddie\", \"Beth\", \"Haley\", \"Dan\", \"Trevor\", \"Reece\", \"Ronnie\", \"Sofia\", \"Lindsay\", \"Natasha\", \"Eric\", \"Tony\", \"Jamie\", \"Amanda\", \"Logan\", \"Clare\", \"McKenzie\", \"Sawyer\", \"Casey\", \"Chelsea\", \"Gavin\", \"Stella\", \"Gwen\", \"Steven\", \"Asher\", \"Tom\", \"Chad\", \"Louise\", \"Adrian\", \"Bianca\", \"Angela\", \"Amy\", \"Spencer\", \"Jessy\", \"Shane\", \"Vicky\", \"Travis\", \"Paige\", \"Jordan\", \"Patrick\", \"Nathalie\", \"Lea\", \"Sammy\", \"Lucas\", \"Maggie\", \"Karen\", \"Quinn\", \"Melissa\", \"Maya\", \"Shay\", \"Brad\", \"Jessie\", \"Jerome\", \"Loui\", \"Daniel\", \"Dave\", \"Carly\", \"Jason\", \"Frankie\", \"James\", \"Rebecca\", \"Veronica\", \"Todd\", \"Julie\", \"Kendall\", \"Jaime\", \"Lillian\", \"Audrey\", \"Stacey\", \"Erika\", \"Lacey\", \"Kennedy\"]\n"
          ]
        }
      ]
    },
    {
      "cell_type": "code",
      "metadata": {
        "id": "DJvLlus1Zzm2",
        "colab": {
          "base_uri": "https://localhost:8080/"
        },
        "outputId": "43233218-a422-42bc-9302-a944fcc8d94a"
      },
      "source": [
        "#analyze with new categories\n",
        "lexicon.analyze(\"My favorite color is blue\", categories=[\"colors\"], normalize=True)\n",
        "lexicon.analyze(\"Joe Biden ate ice cream\", categories=[\"Politician\"], normalize=True)"
      ],
      "execution_count": null,
      "outputs": [
        {
          "output_type": "execute_result",
          "data": {
            "text/plain": [
              "{'Politician': 0.0}"
            ]
          },
          "metadata": {},
          "execution_count": 7
        }
      ]
    },
    {
      "cell_type": "code",
      "metadata": {
        "id": "yWYBHytjbLmI",
        "colab": {
          "base_uri": "https://localhost:8080/"
        },
        "outputId": "7cc2d9e5-5108-498a-f226-cda78d5caed5"
      },
      "source": [
        "# Empath has three different models you can use to create categories: fiction, nytimes, and reddit.\n",
        "# Nytimes is best for something like the cold war\n",
        "lexicon.create_category(\"memes\", [\"memes\"], model=\"reddit\")"
      ],
      "execution_count": null,
      "outputs": [
        {
          "output_type": "stream",
          "name": "stdout",
          "text": [
            "[\"memes\", \"advice_animals\", \"memes\", \"memes\", \"Memes\", \"dank_maymays\", \"dank_memes\", \"shitposts\", \"stupid_memes\", \"/r/4chan\", \"/r/adviceanimals\", \"other_memes\", \"just_memes\", \"shitty_memes\", \"Image_macros\", \"/r/standupshots\", \"funnies\", \"shitty_puns\", \"/r/ImGoingToHellForThis\", \"lolcats\", \"copypasta\", \"shit_posts\", \"r/funny\", \"Memes\", \"/r/funny\", \"shitposting\", \"/r/AdviceAnimals\", \"9gag\", \"shitpost\", \"9gag\", \"/r/funny\", \"shitty_meme\", \"/r/funny\", \"cat_pics\", \"funny_posts\", \"reposts\", \"reaction_images\", \"cat_pictures\", \"le_reddit\", \"Advice_Animals\", \"leddit\", \"funny_pictures\", \"pun_threads\", \"obvious_jokes\", \"shitposting\", \"overused_jokes\", \"original_jokes\", \"adviceanimals\", \"dank_memes_dank_memes\", \"reddits\", \"stupid_posts\", \"meme_form\", \"greentext\", \"greentexts\", \"bullshit_posts\", \"meme\", \"shitty_posts\", \"karma_whores\", \"9gag\", \"low_quality_posts\", \"novelty_accounts\", \"/r/justneckbeardthings\", \"shitty_jokes\", \"posts\", \"memers\", \"/r/4chan\", \"image_macros\", \"/r/fffffffuuuuuuuuuuuu\", \"meme\", \"Shitpost\", \"/r/funny\", \"Shitposts\", \"9gag\", \"only_posts\", \"stupid_puns\", \"meme\", \"low_effort_comments\"]\n"
          ]
        }
      ]
    },
    {
      "cell_type": "code",
      "metadata": {
        "id": "p1NDIhY5bVe0",
        "colab": {
          "base_uri": "https://localhost:8080/"
        },
        "outputId": "9188937a-f511-4e88-a8f7-88dfa1671eac"
      },
      "source": [
        "#You can adjust the size of the requested categories.\n",
        "lexicon.create_category(\"cold_war\", [\"cold_war\"], model=\"nytimes\", size=300)"
      ],
      "execution_count": null,
      "outputs": [
        {
          "output_type": "stream",
          "name": "stdout",
          "text": [
            "[\"cold_war\", \"the_cold_war\", \"the_Cold_War\", \"war\", \"Soviet_threat\", \"the_end_of_the_cold_war\", \"Communism\", \"world_war\", \"Soviet_empire\", \"Soviet_power\", \"Communism\", \"gulf_war\", \"Soviet_bloc\", \"the_Soviet_Union\", \"communism\", \"superpowers\", \"nuclear_age\", \"nuclear_war\", \"Soviet_system\", \"evil_empire\", \"Soviets\", \"wars\", \"arms_race\", \"Indochina\", \"detente\", \"Iran-Iraq_war\", \"Persian_Gulf_war\", \"American_power\", \"new_world_order\", \"American_involvement\", \"wartime\", \"American_foreign_policy\", \"American_occupation\", \"the_Soviet_Union's\", \"Soviet_Communism\", \"nuclear_arms_race\", \"the_Korean_War\", \"military_power\", \"Persian_Gulf_war\", \"great_powers\", \"Marshall_Plan\", \"the_Second_World_War\", \"Communist_rule\", \"the_Warsaw_Pact\", \"Soviet_military\", \"Reagan_years\", \"Reagan_era\", \"Cuban_missile_crisis\", \"world_wars\", \"postwar_period\", \"Communist_world\", \"military-industrial_complex\", \"perestroika\", \"superpower\", \"new_war\", \"Desert_Storm\", \"space_race\", \"Mikhail_Gorbachev\", \"Communist_system\", \"World_War_II\", \"nation-building\", \"the_Vietnam_War\", \"dictatorship\", \"South_Vietnam\", \"Iron_Curtain\", \"diplomacy\", \"old_Soviet_Union\", \"military_buildup\", \"containment\", \"German_unification\", \"Balkans\", \"gulf_crisis\", \"revolution\", \"last_war\", \"Soviet_era\", \"dictatorships\", \"warfare\", \"glasnost\", \"Soviet_state\", \"Communist_regimes\", \"domestic_politics\", \"Khrushchev\", \"American_diplomacy\", \"postwar_era\", \"Soviet_economy\", \"peacetime\", \"Korean_peninsula\", \"Allies\", \"Soviet-American_relations\", \"cold_war_era\", \"space_program\", \"Soviet_occupation\", \"arms_control\", \"Soviet_leaders\", \"World_War_I\", \"Western_alliance\", \"military_strategy\", \"quagmire\", \"regime\", \"fascism\", \"socialism\", \"Vietnam\", \"totalitarianism\", \"new_Europe\", \"American_leadership\", \"long_war\", \"World_War_II.\", \"colonial_rule\", \"the_Persian_Gulf_war\", \"atom_bomb\", \"NATO_alliance\", \"world_affairs\", \"military_threat\", \"home_front\", \"Western_Europe\", \"Eastern_Europe\", \"German_reunification\", \"glasnost\", \"Stalin\", \"Iraq_war\", \"Reagan_Presidency\", \"military_might\", \"American_policy\", \"colonialism\", \"major_war\", \"East-West_relations\", \"Soviet_history\", \"Soviet_rule\", \"Russians\", \"the_Gulf_War\", \"Atlantic_alliance\", \"the_Bay_of_Pigs\", \"democracies\", \"coups\", \"old_order\", \"Islamic_world\", \"Soviet_leadership\", \"unification\", \"Stalinism\", \"nuclear_threat\", \"Vietnam_era\", \"the_Afghan_war\", \"Gorbachev_era\", \"the_Vietnam_war\", \"American_President\", \"American_military_power\", \"Western_powers\", \"American_Government\", \"Soviet_domination\", \"foreign_policy\", \"military_establishment\", \"new_thinking\", \"Communist_regime\", \"Communist_era\", \"militarism\", \"isolationism\", \"the_Persian_Gulf\", \"first_gulf_war\", \"upheavals\", \"Saddam_Hussein's\", \"reunification\", \"Second_World_War\", \"Reagan_Administration\", \"Eastern_Europe's\", \"disintegration\", \"empires\", \"American_strategy\", \"civil_war\", \"Soviet_society\", \"Western_democracies\", \"common_enemy\", \"Communist_state\", \"Korean_Peninsula\", \"New_Deal\", \"the_Marshall_Plan\", \"Berlin_wall\", \"American_influence\", \"American_president\", \"Communist_dictatorship\", \"political_struggle\", \"the_Reagan_Administration\", \"American_public_opinion\", \"military_victory\", \"American_policy_makers\", \"Central_Europe\", \"modern_history\"]\n"
          ]
        }
      ]
    }
  ]
}